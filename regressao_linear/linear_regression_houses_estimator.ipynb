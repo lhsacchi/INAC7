{
 "cells": [
  {
   "cell_type": "code",
   "execution_count": 1,
   "metadata": {},
   "outputs": [
    {
     "data": {
      "text/html": [
       "<div>\n",
       "<style scoped>\n",
       "    .dataframe tbody tr th:only-of-type {\n",
       "        vertical-align: middle;\n",
       "    }\n",
       "\n",
       "    .dataframe tbody tr th {\n",
       "        vertical-align: top;\n",
       "    }\n",
       "\n",
       "    .dataframe thead th {\n",
       "        text-align: right;\n",
       "    }\n",
       "</style>\n",
       "<table border=\"1\" class=\"dataframe\">\n",
       "  <thead>\n",
       "    <tr style=\"text-align: right;\">\n",
       "      <th></th>\n",
       "      <th>id</th>\n",
       "      <th>date</th>\n",
       "      <th>price</th>\n",
       "      <th>bedrooms</th>\n",
       "      <th>bathrooms</th>\n",
       "      <th>sqft_living</th>\n",
       "      <th>sqft_lot</th>\n",
       "      <th>floors</th>\n",
       "      <th>waterfront</th>\n",
       "      <th>view</th>\n",
       "      <th>...</th>\n",
       "      <th>grade</th>\n",
       "      <th>sqft_above</th>\n",
       "      <th>sqft_basement</th>\n",
       "      <th>yr_built</th>\n",
       "      <th>yr_renovated</th>\n",
       "      <th>zipcode</th>\n",
       "      <th>lat</th>\n",
       "      <th>long</th>\n",
       "      <th>sqft_living15</th>\n",
       "      <th>sqft_lot15</th>\n",
       "    </tr>\n",
       "  </thead>\n",
       "  <tbody>\n",
       "    <tr>\n",
       "      <th>0</th>\n",
       "      <td>7129300520</td>\n",
       "      <td>20141013T000000</td>\n",
       "      <td>221900.0</td>\n",
       "      <td>3</td>\n",
       "      <td>1.00</td>\n",
       "      <td>1180</td>\n",
       "      <td>5650</td>\n",
       "      <td>1.0</td>\n",
       "      <td>0</td>\n",
       "      <td>0</td>\n",
       "      <td>...</td>\n",
       "      <td>7</td>\n",
       "      <td>1180</td>\n",
       "      <td>0</td>\n",
       "      <td>1955</td>\n",
       "      <td>0</td>\n",
       "      <td>98178</td>\n",
       "      <td>47.5112</td>\n",
       "      <td>-122.257</td>\n",
       "      <td>1340</td>\n",
       "      <td>5650</td>\n",
       "    </tr>\n",
       "    <tr>\n",
       "      <th>1</th>\n",
       "      <td>6414100192</td>\n",
       "      <td>20141209T000000</td>\n",
       "      <td>538000.0</td>\n",
       "      <td>3</td>\n",
       "      <td>2.25</td>\n",
       "      <td>2570</td>\n",
       "      <td>7242</td>\n",
       "      <td>2.0</td>\n",
       "      <td>0</td>\n",
       "      <td>0</td>\n",
       "      <td>...</td>\n",
       "      <td>7</td>\n",
       "      <td>2170</td>\n",
       "      <td>400</td>\n",
       "      <td>1951</td>\n",
       "      <td>1991</td>\n",
       "      <td>98125</td>\n",
       "      <td>47.7210</td>\n",
       "      <td>-122.319</td>\n",
       "      <td>1690</td>\n",
       "      <td>7639</td>\n",
       "    </tr>\n",
       "    <tr>\n",
       "      <th>2</th>\n",
       "      <td>5631500400</td>\n",
       "      <td>20150225T000000</td>\n",
       "      <td>180000.0</td>\n",
       "      <td>2</td>\n",
       "      <td>1.00</td>\n",
       "      <td>770</td>\n",
       "      <td>10000</td>\n",
       "      <td>1.0</td>\n",
       "      <td>0</td>\n",
       "      <td>0</td>\n",
       "      <td>...</td>\n",
       "      <td>6</td>\n",
       "      <td>770</td>\n",
       "      <td>0</td>\n",
       "      <td>1933</td>\n",
       "      <td>0</td>\n",
       "      <td>98028</td>\n",
       "      <td>47.7379</td>\n",
       "      <td>-122.233</td>\n",
       "      <td>2720</td>\n",
       "      <td>8062</td>\n",
       "    </tr>\n",
       "    <tr>\n",
       "      <th>3</th>\n",
       "      <td>2487200875</td>\n",
       "      <td>20141209T000000</td>\n",
       "      <td>604000.0</td>\n",
       "      <td>4</td>\n",
       "      <td>3.00</td>\n",
       "      <td>1960</td>\n",
       "      <td>5000</td>\n",
       "      <td>1.0</td>\n",
       "      <td>0</td>\n",
       "      <td>0</td>\n",
       "      <td>...</td>\n",
       "      <td>7</td>\n",
       "      <td>1050</td>\n",
       "      <td>910</td>\n",
       "      <td>1965</td>\n",
       "      <td>0</td>\n",
       "      <td>98136</td>\n",
       "      <td>47.5208</td>\n",
       "      <td>-122.393</td>\n",
       "      <td>1360</td>\n",
       "      <td>5000</td>\n",
       "    </tr>\n",
       "    <tr>\n",
       "      <th>4</th>\n",
       "      <td>1954400510</td>\n",
       "      <td>20150218T000000</td>\n",
       "      <td>510000.0</td>\n",
       "      <td>3</td>\n",
       "      <td>2.00</td>\n",
       "      <td>1680</td>\n",
       "      <td>8080</td>\n",
       "      <td>1.0</td>\n",
       "      <td>0</td>\n",
       "      <td>0</td>\n",
       "      <td>...</td>\n",
       "      <td>8</td>\n",
       "      <td>1680</td>\n",
       "      <td>0</td>\n",
       "      <td>1987</td>\n",
       "      <td>0</td>\n",
       "      <td>98074</td>\n",
       "      <td>47.6168</td>\n",
       "      <td>-122.045</td>\n",
       "      <td>1800</td>\n",
       "      <td>7503</td>\n",
       "    </tr>\n",
       "  </tbody>\n",
       "</table>\n",
       "<p>5 rows × 21 columns</p>\n",
       "</div>"
      ],
      "text/plain": [
       "           id             date     price  bedrooms  bathrooms  sqft_living  \\\n",
       "0  7129300520  20141013T000000  221900.0         3       1.00         1180   \n",
       "1  6414100192  20141209T000000  538000.0         3       2.25         2570   \n",
       "2  5631500400  20150225T000000  180000.0         2       1.00          770   \n",
       "3  2487200875  20141209T000000  604000.0         4       3.00         1960   \n",
       "4  1954400510  20150218T000000  510000.0         3       2.00         1680   \n",
       "\n",
       "   sqft_lot  floors  waterfront  view  ...  grade  sqft_above  sqft_basement  \\\n",
       "0      5650     1.0           0     0  ...      7        1180              0   \n",
       "1      7242     2.0           0     0  ...      7        2170            400   \n",
       "2     10000     1.0           0     0  ...      6         770              0   \n",
       "3      5000     1.0           0     0  ...      7        1050            910   \n",
       "4      8080     1.0           0     0  ...      8        1680              0   \n",
       "\n",
       "   yr_built  yr_renovated  zipcode      lat     long  sqft_living15  \\\n",
       "0      1955             0    98178  47.5112 -122.257           1340   \n",
       "1      1951          1991    98125  47.7210 -122.319           1690   \n",
       "2      1933             0    98028  47.7379 -122.233           2720   \n",
       "3      1965             0    98136  47.5208 -122.393           1360   \n",
       "4      1987             0    98074  47.6168 -122.045           1800   \n",
       "\n",
       "   sqft_lot15  \n",
       "0        5650  \n",
       "1        7639  \n",
       "2        8062  \n",
       "3        5000  \n",
       "4        7503  \n",
       "\n",
       "[5 rows x 21 columns]"
      ]
     },
     "execution_count": 1,
     "metadata": {},
     "output_type": "execute_result"
    }
   ],
   "source": [
    "import pandas as pd\n",
    "base = pd.read_csv('house_prices.csv')\n",
    "base.head()"
   ]
  },
  {
   "cell_type": "code",
   "execution_count": 2,
   "metadata": {},
   "outputs": [],
   "source": [
    "house_sizes = base.iloc[:, 5:6].values\n",
    "prices = base.iloc[:, 2:3].values"
   ]
  },
  {
   "cell_type": "code",
   "execution_count": 3,
   "metadata": {},
   "outputs": [],
   "source": [
    "from sklearn.preprocessing import StandardScaler\n",
    "scaler_house_sizes = StandardScaler()\n",
    "house_sizes_transformed = scaler_house_sizes.fit_transform(house_sizes)\n",
    "\n",
    "scaler_prices = StandardScaler()\n",
    "prices_transformed = scaler_prices.fit_transform(prices)"
   ]
  },
  {
   "cell_type": "code",
   "execution_count": 4,
   "metadata": {},
   "outputs": [],
   "source": [
    "import tensorflow as tf"
   ]
  },
  {
   "cell_type": "code",
   "execution_count": 5,
   "metadata": {},
   "outputs": [],
   "source": [
    "columns = [tf.feature_column.numeric_column('previsor', shape = [1])]"
   ]
  },
  {
   "cell_type": "code",
   "execution_count": 6,
   "metadata": {},
   "outputs": [
    {
     "name": "stdout",
     "output_type": "stream",
     "text": [
      "WARNING:tensorflow:Using temporary folder as model directory: C:\\Users\\Matheus\\AppData\\Local\\Temp\\tmp0o7e29w1\n",
      "INFO:tensorflow:Using config: {'_model_dir': 'C:\\\\Users\\\\Matheus\\\\AppData\\\\Local\\\\Temp\\\\tmp0o7e29w1', '_tf_random_seed': 42, '_save_summary_steps': 100, '_save_checkpoints_steps': None, '_save_checkpoints_secs': 600, '_session_config': allow_soft_placement: true\n",
      "graph_options {\n",
      "  rewrite_options {\n",
      "    meta_optimizer_iterations: ONE\n",
      "  }\n",
      "}\n",
      ", '_keep_checkpoint_max': 5, '_keep_checkpoint_every_n_hours': 10000, '_log_step_count_steps': 100, '_train_distribute': None, '_device_fn': None, '_protocol': None, '_eval_distribute': None, '_experimental_distribute': None, '_experimental_max_worker_delay_secs': None, '_session_creation_timeout_secs': 7200, '_checkpoint_save_graph_def': True, '_service': None, '_cluster_spec': ClusterSpec({}), '_task_type': 'worker', '_task_id': 0, '_global_id_in_cluster': 0, '_master': '', '_evaluation_master': '', '_is_chief': True, '_num_ps_replicas': 0, '_num_worker_replicas': 1}\n"
     ]
    }
   ],
   "source": [
    "regressor = tf.estimator.LinearRegressor(feature_columns = columns, config = tf.estimator\n",
    ".RunConfig(tf_random_seed = 42))"
   ]
  },
  {
   "cell_type": "code",
   "execution_count": 7,
   "metadata": {},
   "outputs": [],
   "source": [
    "from sklearn.model_selection import train_test_split\n",
    "house_size_train, house_size_test, price_train, price_test = train_test_split(\n",
    "  house_sizes_transformed, prices_transformed, test_size = 0.3, random_state= 42)"
   ]
  },
  {
   "cell_type": "code",
   "execution_count": 8,
   "metadata": {},
   "outputs": [
    {
     "name": "stdout",
     "output_type": "stream",
     "text": [
      "(15129, 1) (6484, 1) (15129, 1) (6484, 1)\n"
     ]
    }
   ],
   "source": [
    "print(house_size_train.shape, house_size_test.shape,\n",
    "      price_train.shape, price_test.shape)\n"
   ]
  },
  {
   "cell_type": "code",
   "execution_count": 9,
   "metadata": {},
   "outputs": [],
   "source": [
    "def make_input_fn(house_size, price = None, num_epochs = None, shuffle = True, batch_size = 32):\n",
    "    def input_function():\n",
    "        # Precisamos criar um dataset com as variáveis previsoras e de saída. \n",
    "        # As variáveis previsoras precisam ser passadas como um dicionário com os mesmos nomes definidos na chamada de `tf.feature_column.numeric_column`\n",
    "        ds = tf.data.Dataset.from_tensor_slices(({'previsor': house_size}, price))\n",
    "        if shuffle:\n",
    "            ds = ds.shuffle(1000)\n",
    "        ds = ds.batch(batch_size).repeat(num_epochs)\n",
    "        return ds\n",
    "    return input_function"
   ]
  },
  {
   "cell_type": "code",
   "execution_count": 10,
   "metadata": {},
   "outputs": [],
   "source": [
    "train_function = make_input_fn(house_size_train, price_train)\n",
    "test_function = make_input_fn(house_size_test, price_test, num_epochs = 1000, shuffle = False)"
   ]
  },
  {
   "cell_type": "code",
   "execution_count": 11,
   "metadata": {},
   "outputs": [
    {
     "name": "stdout",
     "output_type": "stream",
     "text": [
      "WARNING:tensorflow:From C:\\Users\\Matheus\\.conda\\envs\\machine_learning\\lib\\site-packages\\tensorflow\\python\\training\\training_util.py:235: Variable.initialized_value (from tensorflow.python.ops.variables) is deprecated and will be removed in a future version.\n",
      "Instructions for updating:\n",
      "Use Variable.read_value. Variables in 2.X are initialized automatically both in eager and graph (inside tf.defun) contexts.\n",
      "INFO:tensorflow:Calling model_fn.\n",
      "WARNING:tensorflow:From C:\\Users\\Matheus\\.conda\\envs\\machine_learning\\lib\\site-packages\\tensorflow\\python\\keras\\optimizer_v2\\ftrl.py:148: calling Constant.__init__ (from tensorflow.python.ops.init_ops) with dtype is deprecated and will be removed in a future version.\n",
      "Instructions for updating:\n",
      "Call initializer instance with the dtype argument instead of passing it to the constructor\n"
     ]
    },
    {
     "name": "stderr",
     "output_type": "stream",
     "text": [
      "C:\\Users\\Matheus\\.conda\\envs\\machine_learning\\lib\\site-packages\\tensorflow\\python\\keras\\engine\\base_layer_v1.py:1700: UserWarning: `layer.add_variable` is deprecated and will be removed in a future version. Please use `layer.add_weight` method instead.\n",
      "  warnings.warn('`layer.add_variable` is deprecated and '\n"
     ]
    },
    {
     "name": "stdout",
     "output_type": "stream",
     "text": [
      "INFO:tensorflow:Done calling model_fn.\n",
      "INFO:tensorflow:Create CheckpointSaverHook.\n",
      "INFO:tensorflow:Graph was finalized.\n",
      "INFO:tensorflow:Running local_init_op.\n",
      "INFO:tensorflow:Done running local_init_op.\n",
      "INFO:tensorflow:Calling checkpoint listeners before saving checkpoint 0...\n",
      "INFO:tensorflow:Saving checkpoints for 0 into C:\\Users\\Matheus\\AppData\\Local\\Temp\\tmp0o7e29w1\\model.ckpt.\n",
      "INFO:tensorflow:Calling checkpoint listeners after saving checkpoint 0...\n",
      "INFO:tensorflow:loss = 0.8920282, step = 0\n",
      "INFO:tensorflow:global_step/sec: 1470.56\n",
      "INFO:tensorflow:loss = 0.30374563, step = 100 (0.069 sec)\n",
      "INFO:tensorflow:global_step/sec: 2083.38\n",
      "INFO:tensorflow:loss = 0.4635738, step = 200 (0.048 sec)\n",
      "INFO:tensorflow:global_step/sec: 2061.83\n",
      "INFO:tensorflow:loss = 0.241681, step = 300 (0.048 sec)\n",
      "INFO:tensorflow:global_step/sec: 2150.5\n",
      "INFO:tensorflow:loss = 0.37792256, step = 400 (0.047 sec)\n",
      "INFO:tensorflow:global_step/sec: 2150.55\n",
      "INFO:tensorflow:loss = 1.0386455, step = 500 (0.047 sec)\n",
      "INFO:tensorflow:global_step/sec: 2150.53\n",
      "INFO:tensorflow:loss = 0.20953715, step = 600 (0.046 sec)\n",
      "INFO:tensorflow:global_step/sec: 2083.38\n",
      "INFO:tensorflow:loss = 0.41752252, step = 700 (0.048 sec)\n",
      "INFO:tensorflow:global_step/sec: 2083.3\n",
      "INFO:tensorflow:loss = 0.6075114, step = 800 (0.049 sec)\n",
      "INFO:tensorflow:global_step/sec: 2150.56\n",
      "INFO:tensorflow:loss = 0.5096427, step = 900 (0.046 sec)\n",
      "INFO:tensorflow:global_step/sec: 2150.56\n",
      "INFO:tensorflow:loss = 0.28516752, step = 1000 (0.047 sec)\n",
      "INFO:tensorflow:global_step/sec: 2105.28\n",
      "INFO:tensorflow:loss = 0.7380465, step = 1100 (0.047 sec)\n",
      "INFO:tensorflow:global_step/sec: 2197.73\n",
      "INFO:tensorflow:loss = 0.7794208, step = 1200 (0.046 sec)\n",
      "INFO:tensorflow:global_step/sec: 2222.17\n",
      "INFO:tensorflow:loss = 0.23211755, step = 1300 (0.045 sec)\n",
      "INFO:tensorflow:global_step/sec: 2272.88\n",
      "INFO:tensorflow:loss = 0.5175104, step = 1400 (0.044 sec)\n",
      "INFO:tensorflow:global_step/sec: 2272.65\n",
      "INFO:tensorflow:loss = 0.34879932, step = 1500 (0.044 sec)\n",
      "INFO:tensorflow:global_step/sec: 2083.33\n",
      "INFO:tensorflow:loss = 0.31921646, step = 1600 (0.048 sec)\n",
      "INFO:tensorflow:global_step/sec: 2222.21\n",
      "INFO:tensorflow:loss = 0.337086, step = 1700 (0.045 sec)\n",
      "INFO:tensorflow:global_step/sec: 2247.23\n",
      "INFO:tensorflow:loss = 0.332659, step = 1800 (0.044 sec)\n",
      "INFO:tensorflow:global_step/sec: 2222.22\n",
      "INFO:tensorflow:loss = 0.73631734, step = 1900 (0.045 sec)\n",
      "INFO:tensorflow:global_step/sec: 2222.19\n",
      "INFO:tensorflow:loss = 0.6552631, step = 2000 (0.045 sec)\n",
      "INFO:tensorflow:global_step/sec: 2222.23\n",
      "INFO:tensorflow:loss = 0.30157715, step = 2100 (0.045 sec)\n",
      "INFO:tensorflow:global_step/sec: 2298.7\n",
      "INFO:tensorflow:loss = 1.3233699, step = 2200 (0.043 sec)\n",
      "INFO:tensorflow:global_step/sec: 2222.35\n",
      "INFO:tensorflow:loss = 0.28827024, step = 2300 (0.045 sec)\n",
      "INFO:tensorflow:global_step/sec: 2222.17\n",
      "INFO:tensorflow:loss = 4.477683, step = 2400 (0.045 sec)\n",
      "INFO:tensorflow:global_step/sec: 2222.34\n",
      "INFO:tensorflow:loss = 0.25123096, step = 2500 (0.045 sec)\n",
      "INFO:tensorflow:global_step/sec: 2298.83\n",
      "INFO:tensorflow:loss = 0.31513348, step = 2600 (0.043 sec)\n",
      "INFO:tensorflow:global_step/sec: 2247.15\n",
      "INFO:tensorflow:loss = 0.33850646, step = 2700 (0.045 sec)\n",
      "INFO:tensorflow:global_step/sec: 2222.21\n",
      "INFO:tensorflow:loss = 0.67459923, step = 2800 (0.045 sec)\n",
      "INFO:tensorflow:global_step/sec: 2173.96\n",
      "INFO:tensorflow:loss = 0.46663612, step = 2900 (0.046 sec)\n",
      "INFO:tensorflow:global_step/sec: 2197.75\n",
      "INFO:tensorflow:loss = 0.55007946, step = 3000 (0.046 sec)\n",
      "INFO:tensorflow:global_step/sec: 2197.86\n",
      "INFO:tensorflow:loss = 0.39581692, step = 3100 (0.045 sec)\n",
      "INFO:tensorflow:global_step/sec: 2222.02\n",
      "INFO:tensorflow:loss = 0.31986973, step = 3200 (0.046 sec)\n",
      "INFO:tensorflow:global_step/sec: 2150.69\n",
      "INFO:tensorflow:loss = 0.45227543, step = 3300 (0.047 sec)\n",
      "INFO:tensorflow:global_step/sec: 2127.61\n",
      "INFO:tensorflow:loss = 0.4050368, step = 3400 (0.047 sec)\n",
      "INFO:tensorflow:global_step/sec: 2197.92\n",
      "INFO:tensorflow:loss = 0.28205937, step = 3500 (0.045 sec)\n",
      "INFO:tensorflow:global_step/sec: 2150.46\n",
      "INFO:tensorflow:loss = 0.35859844, step = 3600 (0.047 sec)\n",
      "INFO:tensorflow:global_step/sec: 2127.66\n",
      "INFO:tensorflow:loss = 0.78664213, step = 3700 (0.047 sec)\n",
      "INFO:tensorflow:global_step/sec: 2247.17\n",
      "INFO:tensorflow:loss = 4.811662, step = 3800 (0.045 sec)\n",
      "INFO:tensorflow:global_step/sec: 2197.86\n",
      "INFO:tensorflow:loss = 0.23525459, step = 3900 (0.046 sec)\n",
      "INFO:tensorflow:global_step/sec: 2222.16\n",
      "INFO:tensorflow:loss = 1.6047821, step = 4000 (0.045 sec)\n",
      "INFO:tensorflow:global_step/sec: 2197.82\n",
      "INFO:tensorflow:loss = 0.26609594, step = 4100 (0.046 sec)\n",
      "INFO:tensorflow:global_step/sec: 2127.71\n",
      "INFO:tensorflow:loss = 0.8197509, step = 4200 (0.047 sec)\n",
      "INFO:tensorflow:global_step/sec: 2222.25\n",
      "INFO:tensorflow:loss = 0.39255947, step = 4300 (0.045 sec)\n",
      "INFO:tensorflow:global_step/sec: 2150.51\n",
      "INFO:tensorflow:loss = 0.20251623, step = 4400 (0.047 sec)\n",
      "INFO:tensorflow:global_step/sec: 2197.79\n",
      "INFO:tensorflow:loss = 0.1778645, step = 4500 (0.046 sec)\n",
      "INFO:tensorflow:global_step/sec: 2197.8\n",
      "INFO:tensorflow:loss = 0.5113036, step = 4600 (0.046 sec)\n",
      "INFO:tensorflow:global_step/sec: 2247.25\n",
      "INFO:tensorflow:loss = 0.5326532, step = 4700 (0.044 sec)\n",
      "INFO:tensorflow:global_step/sec: 2247.19\n",
      "INFO:tensorflow:loss = 0.8056866, step = 4800 (0.044 sec)\n",
      "INFO:tensorflow:global_step/sec: 2247.16\n",
      "INFO:tensorflow:loss = 0.50028414, step = 4900 (0.044 sec)\n",
      "INFO:tensorflow:global_step/sec: 2197.74\n",
      "INFO:tensorflow:loss = 0.39061052, step = 5000 (0.046 sec)\n",
      "INFO:tensorflow:global_step/sec: 2150.52\n",
      "INFO:tensorflow:loss = 0.25069183, step = 5100 (0.047 sec)\n",
      "INFO:tensorflow:global_step/sec: 2222.34\n",
      "INFO:tensorflow:loss = 0.35913104, step = 5200 (0.045 sec)\n",
      "INFO:tensorflow:global_step/sec: 2247.16\n",
      "INFO:tensorflow:loss = 0.41158432, step = 5300 (0.044 sec)\n",
      "INFO:tensorflow:global_step/sec: 2222.25\n",
      "INFO:tensorflow:loss = 0.14246196, step = 5400 (0.045 sec)\n",
      "INFO:tensorflow:global_step/sec: 2247.17\n",
      "INFO:tensorflow:loss = 0.9138201, step = 5500 (0.045 sec)\n",
      "INFO:tensorflow:global_step/sec: 2247.14\n",
      "INFO:tensorflow:loss = 0.40420467, step = 5600 (0.045 sec)\n",
      "INFO:tensorflow:global_step/sec: 2222.29\n",
      "INFO:tensorflow:loss = 0.2964186, step = 5700 (0.045 sec)\n",
      "INFO:tensorflow:global_step/sec: 2298.8\n",
      "INFO:tensorflow:loss = 0.16718517, step = 5800 (0.043 sec)\n",
      "INFO:tensorflow:global_step/sec: 2247.15\n",
      "INFO:tensorflow:loss = 0.22588415, step = 5900 (0.045 sec)\n",
      "INFO:tensorflow:global_step/sec: 2272.81\n",
      "INFO:tensorflow:loss = 0.5604912, step = 6000 (0.044 sec)\n",
      "INFO:tensorflow:global_step/sec: 2150.53\n",
      "INFO:tensorflow:loss = 0.5677818, step = 6100 (0.046 sec)\n",
      "INFO:tensorflow:global_step/sec: 2298.82\n",
      "INFO:tensorflow:loss = 4.37857, step = 6200 (0.044 sec)\n",
      "INFO:tensorflow:global_step/sec: 2272.65\n",
      "INFO:tensorflow:loss = 0.34531426, step = 6300 (0.044 sec)\n",
      "INFO:tensorflow:global_step/sec: 2272.69\n",
      "INFO:tensorflow:loss = 1.0614176, step = 6400 (0.044 sec)\n",
      "INFO:tensorflow:global_step/sec: 2247.31\n",
      "INFO:tensorflow:loss = 0.7184918, step = 6500 (0.045 sec)\n",
      "INFO:tensorflow:global_step/sec: 2272.72\n",
      "INFO:tensorflow:loss = 0.5702487, step = 6600 (0.044 sec)\n",
      "INFO:tensorflow:global_step/sec: 2222.18\n",
      "INFO:tensorflow:loss = 0.23873317, step = 6700 (0.045 sec)\n",
      "INFO:tensorflow:global_step/sec: 2272.77\n",
      "INFO:tensorflow:loss = 0.2693659, step = 6800 (0.044 sec)\n",
      "INFO:tensorflow:global_step/sec: 2197.82\n",
      "INFO:tensorflow:loss = 0.79139686, step = 6900 (0.046 sec)\n",
      "INFO:tensorflow:global_step/sec: 2197.81\n",
      "INFO:tensorflow:loss = 0.30089143, step = 7000 (0.046 sec)\n",
      "INFO:tensorflow:global_step/sec: 2247.16\n",
      "INFO:tensorflow:loss = 0.34918433, step = 7100 (0.044 sec)\n",
      "INFO:tensorflow:global_step/sec: 2272.77\n",
      "INFO:tensorflow:loss = 0.6363616, step = 7200 (0.044 sec)\n",
      "INFO:tensorflow:global_step/sec: 2298.8\n",
      "INFO:tensorflow:loss = 0.5801251, step = 7300 (0.043 sec)\n",
      "INFO:tensorflow:global_step/sec: 2222.28\n",
      "INFO:tensorflow:loss = 0.27321184, step = 7400 (0.045 sec)\n",
      "INFO:tensorflow:global_step/sec: 2197.78\n",
      "INFO:tensorflow:loss = 0.27519357, step = 7500 (0.046 sec)\n",
      "INFO:tensorflow:global_step/sec: 2298.75\n",
      "INFO:tensorflow:loss = 0.4403811, step = 7600 (0.044 sec)\n",
      "INFO:tensorflow:global_step/sec: 2247.22\n",
      "INFO:tensorflow:loss = 1.086316, step = 7700 (0.044 sec)\n",
      "INFO:tensorflow:global_step/sec: 2150.59\n",
      "INFO:tensorflow:loss = 0.42124254, step = 7800 (0.046 sec)\n",
      "INFO:tensorflow:global_step/sec: 2272.69\n",
      "INFO:tensorflow:loss = 0.223157, step = 7900 (0.044 sec)\n",
      "INFO:tensorflow:global_step/sec: 2325.62\n",
      "INFO:tensorflow:loss = 0.32942826, step = 8000 (0.043 sec)\n",
      "INFO:tensorflow:global_step/sec: 2247.21\n",
      "INFO:tensorflow:loss = 0.26540858, step = 8100 (0.045 sec)\n",
      "INFO:tensorflow:global_step/sec: 2325.58\n",
      "INFO:tensorflow:loss = 0.21707803, step = 8200 (0.043 sec)\n",
      "INFO:tensorflow:global_step/sec: 2298.73\n",
      "INFO:tensorflow:loss = 0.17190701, step = 8300 (0.043 sec)\n",
      "INFO:tensorflow:global_step/sec: 2298.88\n",
      "INFO:tensorflow:loss = 0.4063005, step = 8400 (0.044 sec)\n",
      "INFO:tensorflow:global_step/sec: 2105.28\n",
      "INFO:tensorflow:loss = 0.6990239, step = 8500 (0.047 sec)\n",
      "INFO:tensorflow:global_step/sec: 2020.19\n",
      "INFO:tensorflow:loss = 0.77071655, step = 8600 (0.050 sec)\n",
      "INFO:tensorflow:global_step/sec: 2040.88\n",
      "INFO:tensorflow:loss = 0.22770567, step = 8700 (0.049 sec)\n",
      "INFO:tensorflow:global_step/sec: 2020.1\n",
      "INFO:tensorflow:loss = 0.33196396, step = 8800 (0.049 sec)\n",
      "INFO:tensorflow:global_step/sec: 2127.71\n",
      "INFO:tensorflow:loss = 0.33276415, step = 8900 (0.048 sec)\n",
      "INFO:tensorflow:global_step/sec: 2040.85\n",
      "INFO:tensorflow:loss = 0.44905123, step = 9000 (0.049 sec)\n",
      "INFO:tensorflow:global_step/sec: 2083.28\n",
      "INFO:tensorflow:loss = 0.23524328, step = 9100 (0.048 sec)\n",
      "INFO:tensorflow:global_step/sec: 2000.06\n",
      "INFO:tensorflow:loss = 0.46690798, step = 9200 (0.050 sec)\n",
      "INFO:tensorflow:global_step/sec: 2083.33\n",
      "INFO:tensorflow:loss = 0.33872414, step = 9300 (0.048 sec)\n",
      "INFO:tensorflow:global_step/sec: 2127.63\n",
      "INFO:tensorflow:loss = 0.5754375, step = 9400 (0.047 sec)\n",
      "INFO:tensorflow:global_step/sec: 2127.65\n",
      "INFO:tensorflow:loss = 0.43194342, step = 9500 (0.047 sec)\n",
      "INFO:tensorflow:global_step/sec: 1834.8\n",
      "INFO:tensorflow:loss = 0.25208634, step = 9600 (0.055 sec)\n",
      "INFO:tensorflow:global_step/sec: 2020.36\n",
      "INFO:tensorflow:loss = 0.38451934, step = 9700 (0.049 sec)\n",
      "INFO:tensorflow:global_step/sec: 1980.16\n",
      "INFO:tensorflow:loss = 1.1837064, step = 9800 (0.050 sec)\n",
      "INFO:tensorflow:global_step/sec: 1980.19\n",
      "INFO:tensorflow:loss = 0.28353864, step = 9900 (0.051 sec)\n",
      "INFO:tensorflow:Calling checkpoint listeners before saving checkpoint 10000...\n",
      "INFO:tensorflow:Saving checkpoints for 10000 into C:\\Users\\Matheus\\AppData\\Local\\Temp\\tmp0o7e29w1\\model.ckpt.\n",
      "INFO:tensorflow:Calling checkpoint listeners after saving checkpoint 10000...\n",
      "INFO:tensorflow:Loss for final step: 0.24641284.\n"
     ]
    },
    {
     "data": {
      "text/plain": [
       "<tensorflow_estimator.python.estimator.canned.linear.LinearRegressorV2 at 0x1cf4f3a3f40>"
      ]
     },
     "execution_count": 11,
     "metadata": {},
     "output_type": "execute_result"
    }
   ],
   "source": [
    "regressor.train(input_fn = train_function, steps = 10000)"
   ]
  },
  {
   "cell_type": "code",
   "execution_count": 12,
   "metadata": {},
   "outputs": [
    {
     "name": "stdout",
     "output_type": "stream",
     "text": [
      "INFO:tensorflow:Calling model_fn.\n",
      "INFO:tensorflow:Done calling model_fn.\n",
      "INFO:tensorflow:Starting evaluation at 2022-03-02T20:59:06\n",
      "INFO:tensorflow:Graph was finalized.\n",
      "INFO:tensorflow:Restoring parameters from C:\\Users\\Matheus\\AppData\\Local\\Temp\\tmp0o7e29w1\\model.ckpt-10000\n",
      "INFO:tensorflow:Running local_init_op.\n",
      "INFO:tensorflow:Done running local_init_op.\n",
      "INFO:tensorflow:Evaluation [1000/10000]\n",
      "INFO:tensorflow:Evaluation [2000/10000]\n",
      "INFO:tensorflow:Evaluation [3000/10000]\n",
      "INFO:tensorflow:Evaluation [4000/10000]\n",
      "INFO:tensorflow:Evaluation [5000/10000]\n",
      "INFO:tensorflow:Evaluation [6000/10000]\n",
      "INFO:tensorflow:Evaluation [7000/10000]\n",
      "INFO:tensorflow:Evaluation [8000/10000]\n",
      "INFO:tensorflow:Evaluation [9000/10000]\n",
      "INFO:tensorflow:Evaluation [10000/10000]\n",
      "INFO:tensorflow:Inference Time : 3.78540s\n",
      "INFO:tensorflow:Finished evaluation at 2022-03-02-20:59:09\n",
      "INFO:tensorflow:Saving dict for global step 10000: average_loss = 0.48810703, global_step = 10000, label/mean = -0.0065834196, loss = 0.48807675, prediction/mean = -0.012411411\n",
      "INFO:tensorflow:Saving 'checkpoint_path' summary for global step 10000: C:\\Users\\Matheus\\AppData\\Local\\Temp\\tmp0o7e29w1\\model.ckpt-10000\n"
     ]
    }
   ],
   "source": [
    "metrics_train = regressor.evaluate(input_fn= train_function, steps = 10000)"
   ]
  },
  {
   "cell_type": "code",
   "execution_count": 13,
   "metadata": {},
   "outputs": [
    {
     "name": "stdout",
     "output_type": "stream",
     "text": [
      "INFO:tensorflow:Calling model_fn.\n",
      "INFO:tensorflow:Done calling model_fn.\n",
      "INFO:tensorflow:Starting evaluation at 2022-03-02T20:59:10\n",
      "INFO:tensorflow:Graph was finalized.\n",
      "INFO:tensorflow:Restoring parameters from C:\\Users\\Matheus\\AppData\\Local\\Temp\\tmp0o7e29w1\\model.ckpt-10000\n",
      "INFO:tensorflow:Running local_init_op.\n",
      "INFO:tensorflow:Done running local_init_op.\n",
      "INFO:tensorflow:Evaluation [1000/10000]\n",
      "INFO:tensorflow:Evaluation [2000/10000]\n",
      "INFO:tensorflow:Evaluation [3000/10000]\n",
      "INFO:tensorflow:Evaluation [4000/10000]\n",
      "INFO:tensorflow:Evaluation [5000/10000]\n",
      "INFO:tensorflow:Evaluation [6000/10000]\n",
      "INFO:tensorflow:Evaluation [7000/10000]\n",
      "INFO:tensorflow:Evaluation [8000/10000]\n",
      "INFO:tensorflow:Evaluation [9000/10000]\n",
      "INFO:tensorflow:Evaluation [10000/10000]\n",
      "INFO:tensorflow:Inference Time : 3.56550s\n",
      "INFO:tensorflow:Finished evaluation at 2022-03-02-20:59:13\n",
      "INFO:tensorflow:Saving dict for global step 10000: average_loss = 0.55330914, global_step = 10000, label/mean = 0.015570629, loss = 0.55679685, prediction/mean = 0.0032317184\n",
      "INFO:tensorflow:Saving 'checkpoint_path' summary for global step 10000: C:\\Users\\Matheus\\AppData\\Local\\Temp\\tmp0o7e29w1\\model.ckpt-10000\n"
     ]
    }
   ],
   "source": [
    "test_metrics = regressor.evaluate(input_fn = test_function, steps = 10000)"
   ]
  },
  {
   "cell_type": "code",
   "execution_count": 14,
   "metadata": {},
   "outputs": [
    {
     "name": "stdout",
     "output_type": "stream",
     "text": [
      "{'average_loss': 0.48810703, 'label/mean': -0.0065834196, 'loss': 0.48807675, 'prediction/mean': -0.012411411, 'global_step': 10000}\n",
      "{'average_loss': 0.55330914, 'label/mean': 0.015570629, 'loss': 0.55679685, 'prediction/mean': 0.0032317184, 'global_step': 10000}\n"
     ]
    }
   ],
   "source": [
    "print(metrics_train)\n",
    "print(test_metrics)"
   ]
  },
  {
   "cell_type": "code",
   "execution_count": 21,
   "metadata": {},
   "outputs": [
    {
     "name": "stdout",
     "output_type": "stream",
     "text": [
      "INFO:tensorflow:Calling model_fn.\n",
      "INFO:tensorflow:Done calling model_fn.\n",
      "INFO:tensorflow:Graph was finalized.\n",
      "INFO:tensorflow:Restoring parameters from C:\\Users\\Matheus\\AppData\\Local\\Temp\\tmp0o7e29w1\\model.ckpt-10000\n",
      "INFO:tensorflow:Running local_init_op.\n",
      "INFO:tensorflow:Done running local_init_op.\n"
     ]
    },
    {
     "name": "stderr",
     "output_type": "stream",
     "text": [
      "C:\\Users\\Matheus\\.conda\\envs\\machine_learning\\lib\\site-packages\\tensorflow\\python\\keras\\engine\\base_layer_v1.py:1700: UserWarning: `layer.add_variable` is deprecated and will be removed in a future version. Please use `layer.add_weight` method instead.\n",
      "  warnings.warn('`layer.add_variable` is deprecated and '\n"
     ]
    },
    {
     "data": {
      "text/plain": [
       "[{'predictions': array([-0.96557844], dtype=float32)},\n",
       " {'predictions': array([-0.8907409], dtype=float32)},\n",
       " {'predictions': array([-0.8159032], dtype=float32)},\n",
       " {'predictions': array([-1.414604], dtype=float32)}]"
      ]
     },
     "execution_count": 21,
     "metadata": {},
     "output_type": "execute_result"
    }
   ],
   "source": [
    "import numpy as np\n",
    "new_houses_transformed = scaler_house_sizes.transform(np.array([[800], [900], [1000], [200]]))\n",
    "predict_function = make_input_fn(new_houses_transformed, num_epochs = 1, shuffle = False)\n",
    "predicts = regressor.predict(input_fn = predict_function)\n",
    "list(predicts)"
   ]
  },
  {
   "cell_type": "code",
   "execution_count": 22,
   "metadata": {},
   "outputs": [
    {
     "name": "stdout",
     "output_type": "stream",
     "text": [
      "INFO:tensorflow:Calling model_fn.\n",
      "INFO:tensorflow:Done calling model_fn.\n",
      "INFO:tensorflow:Graph was finalized.\n",
      "INFO:tensorflow:Restoring parameters from C:\\Users\\Matheus\\AppData\\Local\\Temp\\tmp0o7e29w1\\model.ckpt-10000\n",
      "INFO:tensorflow:Running local_init_op.\n",
      "INFO:tensorflow:Done running local_init_op.\n"
     ]
    },
    {
     "data": {
      "text/plain": [
       "array([[185606.23],\n",
       "       [213080.52],\n",
       "       [240554.83],\n",
       "       [ 20760.58]], dtype=float32)"
      ]
     },
     "execution_count": 22,
     "metadata": {},
     "output_type": "execute_result"
    }
   ],
   "source": [
    "predicts_results = []\n",
    "for predict in regressor.predict(input_fn = predict_function):\n",
    "    predicts_results.append(predict['predictions'])\n",
    "predicts_results = np.asarray(predicts_results).reshape(-1, 1)\n",
    "predicts_results = scaler_prices.inverse_transform(predicts_results)\n",
    "predicts_results"
   ]
  },
  {
   "cell_type": "code",
   "execution_count": null,
   "metadata": {},
   "outputs": [],
   "source": []
  }
 ],
 "metadata": {
  "interpreter": {
   "hash": "2cc2415c7fb41254ebc88198d19a186a1e1f8e9fe05ab2076cb4a223b491bc1c"
  },
  "kernelspec": {
   "display_name": "Python 3 (ipykernel)",
   "language": "python",
   "name": "python3"
  },
  "language_info": {
   "codemirror_mode": {
    "name": "ipython",
    "version": 3
   },
   "file_extension": ".py",
   "mimetype": "text/x-python",
   "name": "python",
   "nbconvert_exporter": "python",
   "pygments_lexer": "ipython3",
   "version": "3.9.7"
  }
 },
 "nbformat": 4,
 "nbformat_minor": 4
}
